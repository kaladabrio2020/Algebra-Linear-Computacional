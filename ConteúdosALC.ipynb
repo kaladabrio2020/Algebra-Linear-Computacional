{
 "cells": [
  {
   "cell_type": "markdown",
   "metadata": {},
   "source": [
    "# Algebra linear computacional"
   ]
  },
  {
   "cell_type": "code",
   "execution_count": 68,
   "metadata": {},
   "outputs": [],
   "source": [
    "import numpy as np"
   ]
  },
  {
   "cell_type": "markdown",
   "metadata": {},
   "source": [
    "## Sistemas lineares"
   ]
  },
  {
   "cell_type": "markdown",
   "metadata": {},
   "source": [
    "### Substituição para frente(Forward Substitution)\n",
    "Substituição para Frente é um método utilizado para resolver sistemas de equações lineares na forma:\n",
    " $$L y = b$$\n",
    "\n",
    "Onde : \n",
    "* L é uma matriz triangular inferior\n",
    "* y é o vetor de incógnitas intermediárias\n",
    "* b é o vetor constantes\n",
    "\n",
    "Exemplo hipotetico abaixo:"
   ]
  },
  {
   "cell_type": "code",
   "execution_count": 69,
   "metadata": {},
   "outputs": [
    {
     "data": {
      "text/plain": [
       "array([[1., 0., 0., 0., 0.],\n",
       "       [1., 1., 0., 0., 0.],\n",
       "       [1., 1., 1., 0., 0.]])"
      ]
     },
     "execution_count": 69,
     "metadata": {},
     "output_type": "execute_result"
    }
   ],
   "source": [
    "# L\n",
    "np.tri(N=3, M=5)"
   ]
  },
  {
   "cell_type": "code",
   "execution_count": 107,
   "metadata": {},
   "outputs": [
    {
     "data": {
      "text/plain": [
       "array([[ 1.62434536, -0.61175641, -0.52817175, -1.07296862,  0.86540763]])"
      ]
     },
     "execution_count": 107,
     "metadata": {},
     "output_type": "execute_result"
    }
   ],
   "source": [
    "np.random.RandomState(1).randn(5,1).T"
   ]
  },
  {
   "cell_type": "markdown",
   "metadata": {},
   "source": [
    "#### Teorema 1.3.1\n",
    "\n",
    "Seja $G$ uma matrix triangular. Então ,$G$ é invertivel se, e somente se, todos elementos da diagonal principal de $G$ são diferentes de zero.\n",
    "\n",
    "$DET(G) \\not = 0$ , se G é invertivel\n",
    "* $det(G) = g_{11}g_{22}...g_{nn} \\not = 0$ para $i = 1, 2, ..., n$"
   ]
  },
  {
   "cell_type": "code",
   "execution_count": 72,
   "metadata": {},
   "outputs": [],
   "source": [
    "def prova(G):\n",
    "    try: \n",
    "        inv = np.linalg.inv(G)\n",
    "        return inv\n",
    "    except Exception:\n",
    "        raise ValueError(\"Não é invertivel\")"
   ]
  },
  {
   "cell_type": "code",
   "execution_count": 73,
   "metadata": {},
   "outputs": [
    {
     "name": "stdout",
     "output_type": "stream",
     "text": [
      "Não tem inversa\n"
     ]
    }
   ],
   "source": [
    "try:\n",
    "    prova(\n",
    "        np.array([[1, 2, 2],\n",
    "              [0, 0, 3],\n",
    "              [0, 0, 1]])\n",
    "    )\n",
    "except Exception:\n",
    "    print(\"Não tem inversa\")"
   ]
  },
  {
   "cell_type": "code",
   "execution_count": 74,
   "metadata": {},
   "outputs": [
    {
     "data": {
      "text/plain": [
       "array([[ 1., -1.,  0.],\n",
       "       [ 0.,  1., -1.],\n",
       "       [ 0.,  0.,  1.]])"
      ]
     },
     "execution_count": 74,
     "metadata": {},
     "output_type": "execute_result"
    }
   ],
   "source": [
    "prova(\n",
    "    np.array([[1,1,1],[0,1,1],[0,0,1]])\n",
    ")"
   ]
  },
  {
   "cell_type": "markdown",
   "metadata": {},
   "source": [
    "&nbsp;"
   ]
  },
  {
   "cell_type": "markdown",
   "metadata": {},
   "source": [
    "#### Transformando a matriz em $L$"
   ]
  },
  {
   "cell_type": "code",
   "execution_count": 75,
   "metadata": {},
   "outputs": [],
   "source": [
    "def transformL(A):\n",
    "    # regra de cramer\n",
    "    if np.linalg.det(A) == 0:\n",
    "        raise Exception(\"Não tem inversa\")\n",
    "    \n",
    "    for i in reversed(range(A.shape[0])):\n",
    "        u_ = A[i, i]\n",
    "        \n",
    "        if i == 0 or u_ == 0: break\n",
    "        for j in reversed(range(i)):\n",
    "            L = A[j, i]/u_\n",
    "            A[j, : ] = np.around(A[j, :] - L * A[i, :], decimals=4)\n",
    "               \n",
    "    return A"
   ]
  },
  {
   "cell_type": "code",
   "execution_count": 76,
   "metadata": {},
   "outputs": [],
   "source": [
    "A = np.array([\n",
    "    [5, 3, 3],\n",
    "    [4, 5, 6],\n",
    "    [2, 4, 7]\n",
    "])\n",
    "b = np.around(\n",
    "    np.random.RandomState(1).randn(3, 1)\n",
    "    )"
   ]
  },
  {
   "cell_type": "code",
   "execution_count": 77,
   "metadata": {},
   "outputs": [
    {
     "data": {
      "text/plain": [
       "(array([[5, 3, 3],\n",
       "        [4, 5, 6],\n",
       "        [2, 4, 7]]),\n",
       " array([[ 2.],\n",
       "        [-1.],\n",
       "        [-1.]]))"
      ]
     },
     "execution_count": 77,
     "metadata": {},
     "output_type": "execute_result"
    }
   ],
   "source": [
    "A, b"
   ]
  },
  {
   "cell_type": "code",
   "execution_count": 78,
   "metadata": {},
   "outputs": [],
   "source": [
    "L = transformL(A)"
   ]
  },
  {
   "cell_type": "markdown",
   "metadata": {},
   "source": [
    "#### Algoritmo de substituição"
   ]
  },
  {
   "cell_type": "markdown",
   "metadata": {},
   "source": [
    "```pseudo\n",
    "_______________________________________\n",
    "ALG.....: ALGORITMO DE SUBSTITUIÇÃO\n",
    "ENTRADA.: L e b\n",
    "SAIDA...: y\n",
    "---------------------------------------\n",
    "INICIO:\n",
    "    CRIA Y = [0....][TAMANHO = N]\n",
    "\n",
    "    Y[1] = b1 / L[1, 1]\n",
    "    PARA i = 2 FAÇA ATÉ N:\n",
    "        S = 0 \n",
    "        PARA j FAÇA ATÉ i-1:\n",
    "            S += L[i, j] * y[j]\n",
    "\n",
    "        Y[i] = 1/L[i, i] * (b[i] - S)\n",
    "    RETURN Y\n",
    "```"
   ]
  },
  {
   "cell_type": "code",
   "execution_count": 79,
   "metadata": {},
   "outputs": [],
   "source": [
    "def forwardSubstitution(L, b):\n",
    "    # criando um vetor y\n",
    "    y  = np.zeros(shape=(L.shape[1], 1)) \n",
    "\n",
    "    # definindo y[0] \n",
    "    y[0, :] = b[0, :]/ L[0, 0]\n",
    "\n",
    "    # continuando o alg de substituição\n",
    "    for i in range(1, L.shape[0]):\n",
    "        S = np.sum([ L[i,j] * y[j] for j in range(i) ])\n",
    "        \n",
    "        y[i, :] = 1/L[i,i] * (b[i, :] - S )\n",
    "    return y"
   ]
  },
  {
   "cell_type": "code",
   "execution_count": 80,
   "metadata": {},
   "outputs": [
    {
     "data": {
      "text/plain": [
       "array([[ 1.        ],\n",
       "       [-3.        ],\n",
       "       [ 1.28571429]])"
      ]
     },
     "execution_count": 80,
     "metadata": {},
     "output_type": "execute_result"
    }
   ],
   "source": [
    "y = forwardSubstitution(L, b)\n",
    "y"
   ]
  },
  {
   "cell_type": "code",
   "execution_count": 81,
   "metadata": {},
   "outputs": [
    {
     "data": {
      "text/plain": [
       "array([[ 1.        ],\n",
       "       [-3.        ],\n",
       "       [ 1.28571429]])"
      ]
     },
     "execution_count": 81,
     "metadata": {},
     "output_type": "execute_result"
    }
   ],
   "source": [
    "np.linalg.solve(A, b)"
   ]
  },
  {
   "cell_type": "markdown",
   "metadata": {},
   "source": [
    "Outro exemplo"
   ]
  },
  {
   "cell_type": "code",
   "execution_count": 82,
   "metadata": {},
   "outputs": [
    {
     "data": {
      "text/plain": [
       "(array([[ 16.24,  -6.12,  -5.28, -10.73,   8.65],\n",
       "        [-23.02,  17.45,  -7.61,   3.19,  -2.49],\n",
       "        [ 14.62, -20.6 ,  -3.22,  -3.84,  11.34],\n",
       "        [-11.  ,  -1.72,  -8.78,   0.42,   5.83],\n",
       "        [-11.01,  11.45,   9.02,   5.02,   9.01]]),\n",
       " array([[ 1.62],\n",
       "        [-0.61],\n",
       "        [-0.53],\n",
       "        [-1.07],\n",
       "        [ 0.87]]))"
      ]
     },
     "execution_count": 82,
     "metadata": {},
     "output_type": "execute_result"
    }
   ],
   "source": [
    "A = np.random.RandomState(1).randn(5, 5)*10\n",
    "A = np.around(A, decimals=2)\n",
    "\n",
    "b = np.random.RandomState(1).randn(5, 1)*1\n",
    "b = np.around(b, decimals=2)\n",
    "\n",
    "A, b"
   ]
  },
  {
   "cell_type": "code",
   "execution_count": 83,
   "metadata": {},
   "outputs": [],
   "source": [
    "L = transformL(A) "
   ]
  },
  {
   "cell_type": "code",
   "execution_count": 84,
   "metadata": {},
   "outputs": [
    {
     "data": {
      "text/plain": [
       "array([[-0.06578279],\n",
       "       [-0.14954343],\n",
       "       [ 0.0508016 ],\n",
       "       [ 0.68862814],\n",
       "       [-0.22831741]])"
      ]
     },
     "execution_count": 84,
     "metadata": {},
     "output_type": "execute_result"
    }
   ],
   "source": [
    "forwardSubstitution(L, b)"
   ]
  },
  {
   "cell_type": "code",
   "execution_count": 85,
   "metadata": {},
   "outputs": [
    {
     "data": {
      "text/plain": [
       "array([[-0.06578279],\n",
       "       [-0.14954343],\n",
       "       [ 0.0508016 ],\n",
       "       [ 0.68862814],\n",
       "       [-0.22831741]])"
      ]
     },
     "execution_count": 85,
     "metadata": {},
     "output_type": "execute_result"
    }
   ],
   "source": [
    "np.linalg.solve(A, b)"
   ]
  },
  {
   "cell_type": "markdown",
   "metadata": {},
   "source": [
    "&nbsp;"
   ]
  },
  {
   "cell_type": "markdown",
   "metadata": {},
   "source": [
    "## Decomposição de $\\text{Choesky}$"
   ]
  },
  {
   "cell_type": "markdown",
   "metadata": {},
   "source": [
    "É a decomposição de uma matriz simetrica e definida positiva no produto de uma matriz triangular inferior e sua transpota($A=LL^t$)\n",
    "Quando aplicável, a decomposição é aproximadamente duas vezes mais eficiente que a decomposição LU para resolver sistemas de equações linares."
   ]
  },
  {
   "cell_type": "markdown",
   "metadata": {},
   "source": [
    "#### Condições\n",
    "\n",
    "**Simetrica:** $A$ deve ser simétrica ($A=A^t$).\n",
    "\n",
    "**Positividades:**\n",
    "1. Todos os menores principais dominantes dever ser positivos\n",
    "2. Todos os autovalores devem ser positivos\n",
    "\n",
    "exemplo:"
   ]
  },
  {
   "cell_type": "code",
   "execution_count": 86,
   "metadata": {},
   "outputs": [],
   "source": [
    "# Verificando se a matrix é simetrica\n",
    "def isSimetric(A):\n",
    "    return np.all(A == A.T)"
   ]
  },
  {
   "cell_type": "code",
   "execution_count": 87,
   "metadata": {},
   "outputs": [],
   "source": [
    "A_ = np.array([\n",
    "    [2, 1, 1],\n",
    "    [1, 3, 1],\n",
    "    [1, 1, 2]\n",
    "])"
   ]
  },
  {
   "cell_type": "code",
   "execution_count": 88,
   "metadata": {},
   "outputs": [
    {
     "data": {
      "text/plain": [
       "np.True_"
      ]
     },
     "execution_count": 88,
     "metadata": {},
     "output_type": "execute_result"
    }
   ],
   "source": [
    "isSimetric(A_)"
   ]
  },
  {
   "cell_type": "code",
   "execution_count": 89,
   "metadata": {},
   "outputs": [],
   "source": [
    "# Verificando a positividade da matriz\n",
    "def Positividade(A):\n",
    "    return np.all(\n",
    "        np.linalg.eigvals(A) >0\n",
    "    )\n",
    "    "
   ]
  },
  {
   "cell_type": "code",
   "execution_count": 90,
   "metadata": {},
   "outputs": [
    {
     "data": {
      "text/plain": [
       "np.True_"
      ]
     },
     "execution_count": 90,
     "metadata": {},
     "output_type": "execute_result"
    }
   ],
   "source": [
    "Positividade(A_)"
   ]
  },
  {
   "cell_type": "markdown",
   "metadata": {},
   "source": [
    "&nbsp;"
   ]
  },
  {
   "cell_type": "markdown",
   "metadata": {},
   "source": [
    "#### Algoritmo de $\\text{cholesky}$"
   ]
  },
  {
   "cell_type": "markdown",
   "metadata": {},
   "source": [
    "$$\n",
    "\\text{Inicialize L com uma matriz triangular inferior com seros} \\\\\n",
    "\n",
    "1.L_{j,j} = \\sqrt{A_{j,j} - \\sum_{k-1}^{j-1}{L_{j,k}}^2} \\\\\n",
    "2. L_{i,j} = \\frac{1}{L_{i,j}} ({A_{j,j} - \\sum_{k-1}^{j-1}{L_{j,k}} \\cdot L_{i,k}}) , \\text{para } i> j\n",
    "$$\n"
   ]
  },
  {
   "cell_type": "code",
   "execution_count": 104,
   "metadata": {},
   "outputs": [],
   "source": [
    "def cholesky(A):\n",
    "    N, M = A.shape\n",
    "    L = np.tri(N, M)\n",
    "\n",
    "    for i in range(A.shape[0]):\n",
    "        for j in range(i):\n",
    "            L[i, j] = (1/L[j, j]) * (A[i, j] - np.sum([L[j, k] * L[i, k] for k in range(j)]))\n",
    "       \n",
    "        L[i, i] = np.sqrt(A[i, i] - np.sum([L[i, k]**2 for k in range(i)]))\n",
    "    return L       "
   ]
  },
  {
   "cell_type": "code",
   "execution_count": 105,
   "metadata": {},
   "outputs": [
    {
     "name": "stdout",
     "output_type": "stream",
     "text": [
      "[[1. 0. 0.]\n",
      " [1. 1. 0.]\n",
      " [1. 1. 1.]]\n",
      "3 3\n"
     ]
    }
   ],
   "source": [
    "L = cholesky(A_)"
   ]
  },
  {
   "cell_type": "code",
   "execution_count": 106,
   "metadata": {},
   "outputs": [
    {
     "data": {
      "text/plain": [
       "(array([[2., 1., 1.],\n",
       "        [1., 3., 1.],\n",
       "        [1., 1., 2.]]),\n",
       " array([[1.41421356, 0.        , 0.        ],\n",
       "        [0.70710678, 1.58113883, 0.        ],\n",
       "        [0.70710678, 0.31622777, 1.18321596]]))"
      ]
     },
     "execution_count": 106,
     "metadata": {},
     "output_type": "execute_result"
    }
   ],
   "source": [
    "L@L.T, L"
   ]
  },
  {
   "cell_type": "markdown",
   "metadata": {},
   "source": [
    "&nbsp;"
   ]
  },
  {
   "cell_type": "markdown",
   "metadata": {},
   "source": [
    "## Decomposição $LU$"
   ]
  },
  {
   "cell_type": "markdown",
   "metadata": {},
   "source": [
    "É a fatoração de uma matriz quadrada A em duas matrizes: \n",
    "* $L$ triangular inferior\n",
    "```pseudo\n",
    "[1, 0, 0]\n",
    "[1, 1, 0]\n",
    "[1, 1, 1]\n",
    "```\n",
    "* $U$ triangular superior\n",
    "```pseudo\n",
    "[1, 1, 1]\n",
    "[0, 1, 1]\n",
    "[0, 0, 1]\n",
    "```"
   ]
  },
  {
   "cell_type": "markdown",
   "metadata": {},
   "source": [
    "A decomposiçã $LU$ facilita a resoluçã de sistemas lineares, especialmente quando o sistema é a parte do múltiplos sistemas com a mesma matriz de coeficientes. Foi desenvolvidas a partir do método de eleminação de Gauss, adaptando-o para uma fatoração matricial"
   ]
  },
  {
   "cell_type": "markdown",
   "metadata": {},
   "source": [
    "&nbsp;"
   ]
  },
  {
   "cell_type": "markdown",
   "metadata": {},
   "source": [
    "#### Vantagem Computacional\n",
    "\n",
    "| Tradicional | LU |\n",
    "| ----------- | -- |\n",
    "| $O(n^3)$ opereções para cada sistema   | Fatorar $A = LU$ uma única vez: $O(n^3)$ operações|\n",
    "|         | Para cada novo sistema, resolver $Ly = b$, Ux=y. \"Apenas\" $O(n^2)$ operações por sistema|\n",
    "\n",
    "#### Condições\n",
    "Existencias:\n",
    "A matriz deve ser nao singular. Eventualmente, pode ser necessário alterar a ordem das linhas e/ou colunas de $A$ para evitar pivos nulos(**pivoteamento**)\n",
    "$$\n",
    "PA=LU\n",
    "$$\n",
    "Onde $P$ é matriz de permutação\n",
    "\n",
    ">uma matriz é chamada de singular se:\n",
    "> 1. Seu determinante é igual a zero (det(𝐴)=0)\n",
    "> 2. Ela não possui inversa.\n",
    "> "
   ]
  },
  {
   "cell_type": "code",
   "execution_count": 108,
   "metadata": {},
   "outputs": [],
   "source": [
    "def isSingular(A):\n",
    "    try:\n",
    "        if np.isclose(np.linalg.det(A), 0):\n",
    "            print(\"det = 0\")\n",
    "        else:\n",
    "            print(\"det dif 0\")\n",
    "        \n",
    "        np.linalg.inv(A)\n",
    "        print(\"Possui inversa\")\n",
    "    except np.linalg.LinAlgError:\n",
    "        print(\"Não possui inversa\")"
   ]
  },
  {
   "cell_type": "code",
   "execution_count": 109,
   "metadata": {},
   "outputs": [
    {
     "name": "stdout",
     "output_type": "stream",
     "text": [
      "det dif 0\n",
      "Possui inversa\n"
     ]
    }
   ],
   "source": [
    "isSingular(A)"
   ]
  },
  {
   "cell_type": "code",
   "execution_count": null,
   "metadata": {},
   "outputs": [],
   "source": []
  }
 ],
 "metadata": {
  "kernelspec": {
   "display_name": "Python 3",
   "language": "python",
   "name": "python3"
  },
  "language_info": {
   "codemirror_mode": {
    "name": "ipython",
    "version": 3
   },
   "file_extension": ".py",
   "mimetype": "text/x-python",
   "name": "python",
   "nbconvert_exporter": "python",
   "pygments_lexer": "ipython3",
   "version": "3.12.7"
  }
 },
 "nbformat": 4,
 "nbformat_minor": 2
}
