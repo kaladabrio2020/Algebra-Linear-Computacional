{
 "cells": [
  {
   "cell_type": "markdown",
   "metadata": {},
   "source": [
    "# Algebra linear computacional"
   ]
  },
  {
   "cell_type": "code",
   "execution_count": 3,
   "metadata": {},
   "outputs": [],
   "source": [
    "import numpy as np\n",
    "import matplotlib.pyplot as plt"
   ]
  },
  {
   "cell_type": "markdown",
   "metadata": {},
   "source": [
    "## Sistemas lineares"
   ]
  },
  {
   "cell_type": "markdown",
   "metadata": {},
   "source": [
    "### Substituição para frente(Forward Substitution)\n",
    "Substituição para Frente é um método utilizado para resolver sistemas de equações lineares na forma:\n",
    " $$L y = b$$\n",
    "\n",
    "Onde : \n",
    "* L é uma matriz triangular inferior\n",
    "* y é o vetor de incógnitas intermediárias\n",
    "* b é o vetor constantes\n",
    "\n",
    "Exemplo hipotetico abaixo:"
   ]
  },
  {
   "cell_type": "code",
   "execution_count": 4,
   "metadata": {},
   "outputs": [
    {
     "data": {
      "text/plain": [
       "array([[1., 0., 0., 0., 0.],\n",
       "       [1., 1., 0., 0., 0.],\n",
       "       [1., 1., 1., 0., 0.]])"
      ]
     },
     "execution_count": 4,
     "metadata": {},
     "output_type": "execute_result"
    }
   ],
   "source": [
    "# L\n",
    "np.tri(N=3, M=5)"
   ]
  },
  {
   "cell_type": "code",
   "execution_count": 5,
   "metadata": {},
   "outputs": [
    {
     "data": {
      "text/plain": [
       "array([[1., 0., 0., 0., 0., 0., 0.],\n",
       "       [1., 1., 0., 0., 0., 0., 0.],\n",
       "       [1., 1., 1., 0., 0., 0., 0.],\n",
       "       [1., 1., 1., 1., 0., 0., 0.],\n",
       "       [1., 1., 1., 1., 1., 0., 0.],\n",
       "       [1., 1., 1., 1., 1., 1., 0.],\n",
       "       [1., 1., 1., 1., 1., 1., 1.]])"
      ]
     },
     "execution_count": 5,
     "metadata": {},
     "output_type": "execute_result"
    }
   ],
   "source": [
    "# L\n",
    "np.tri(N=7, M=7)"
   ]
  },
  {
   "cell_type": "code",
   "execution_count": 6,
   "metadata": {},
   "outputs": [
    {
     "data": {
      "text/plain": [
       "array([[ 1.62434536, -0.61175641, -0.52817175, -1.07296862,  0.86540763]])"
      ]
     },
     "execution_count": 6,
     "metadata": {},
     "output_type": "execute_result"
    }
   ],
   "source": [
    "np.random.RandomState(1).randn(5,1).T"
   ]
  },
  {
   "cell_type": "markdown",
   "metadata": {},
   "source": [
    "#### Teorema 1.3.1\n",
    "\n",
    "Seja $G$ uma matrix triangular. Então ,$G$ é invertivel se, e somente se, todos elementos da diagonal principal de $G$ são diferentes de zero.\n",
    "\n",
    "$DET(G) \\not = 0$ , se G é invertivel\n",
    "* $det(G) = g_{11}g_{22}...g_{nn} \\not = 0$ para $i = 1, 2, ..., n$"
   ]
  },
  {
   "cell_type": "code",
   "execution_count": 7,
   "metadata": {},
   "outputs": [],
   "source": [
    "def prova(G):\n",
    "    try: \n",
    "        inv = np.linalg.inv(G)\n",
    "        return inv\n",
    "    except Exception:\n",
    "        raise ValueError(\"Não é invertivel\")"
   ]
  },
  {
   "cell_type": "code",
   "execution_count": 8,
   "metadata": {},
   "outputs": [
    {
     "name": "stdout",
     "output_type": "stream",
     "text": [
      "Não tem inversa\n"
     ]
    }
   ],
   "source": [
    "try:\n",
    "    prova(\n",
    "        np.array([[1, 2, 2],\n",
    "              [0, 0, 3],\n",
    "              [0, 0, 1]])\n",
    "    )\n",
    "except Exception:\n",
    "    print(\"Não tem inversa\")"
   ]
  },
  {
   "cell_type": "code",
   "execution_count": 9,
   "metadata": {},
   "outputs": [
    {
     "data": {
      "text/plain": [
       "array([[ 1., -1.,  0.],\n",
       "       [ 0.,  1., -1.],\n",
       "       [ 0.,  0.,  1.]])"
      ]
     },
     "execution_count": 9,
     "metadata": {},
     "output_type": "execute_result"
    }
   ],
   "source": [
    "prova(\n",
    "    np.array([[1,1,1],[0,1,1],[0,0,1]])\n",
    ")"
   ]
  },
  {
   "cell_type": "markdown",
   "metadata": {},
   "source": [
    "&nbsp;"
   ]
  },
  {
   "cell_type": "markdown",
   "metadata": {},
   "source": [
    "#### Transformando a matriz em $L$"
   ]
  },
  {
   "cell_type": "code",
   "execution_count": 10,
   "metadata": {},
   "outputs": [],
   "source": [
    "def transformL(A):\n",
    "    # regra de cramer\n",
    "    if np.linalg.det(A) == 0:\n",
    "        raise Exception(\"Não tem inversa\")\n",
    "    \n",
    "    for i in reversed(range(A.shape[0])):\n",
    "        u_ = A[i, i]\n",
    "        \n",
    "        if i == 0 or u_ == 0: break\n",
    "        for j in reversed(range(i)):\n",
    "            L = A[j, i]/u_\n",
    "            A[j, : ] = np.around(A[j, :] - L * A[i, :], decimals=4)\n",
    "               \n",
    "    return A"
   ]
  },
  {
   "cell_type": "code",
   "execution_count": 11,
   "metadata": {},
   "outputs": [],
   "source": [
    "A = np.array([\n",
    "    [5, 3, 3],\n",
    "    [4, 5, 6],\n",
    "    [2, 4, 7]\n",
    "])\n",
    "b = np.around(\n",
    "    np.random.RandomState(1).randn(3, 1)\n",
    "    )"
   ]
  },
  {
   "cell_type": "code",
   "execution_count": 12,
   "metadata": {},
   "outputs": [
    {
     "data": {
      "text/plain": [
       "(array([[5, 3, 3],\n",
       "        [4, 5, 6],\n",
       "        [2, 4, 7]]),\n",
       " array([[ 2.],\n",
       "        [-1.],\n",
       "        [-1.]]))"
      ]
     },
     "execution_count": 12,
     "metadata": {},
     "output_type": "execute_result"
    }
   ],
   "source": [
    "A, b"
   ]
  },
  {
   "cell_type": "code",
   "execution_count": 13,
   "metadata": {},
   "outputs": [],
   "source": [
    "L = transformL(A)"
   ]
  },
  {
   "cell_type": "markdown",
   "metadata": {},
   "source": [
    "#### Algoritmo de substituição"
   ]
  },
  {
   "cell_type": "markdown",
   "metadata": {},
   "source": [
    "```pseudo\n",
    "_______________________________________\n",
    "ALG.....: ALGORITMO DE SUBSTITUIÇÃO\n",
    "ENTRADA.: L e b\n",
    "SAIDA...: y\n",
    "---------------------------------------\n",
    "INICIO:\n",
    "    CRIA Y = [0....][TAMANHO = N]\n",
    "\n",
    "    Y[1] = b1 / L[1, 1]\n",
    "    PARA i = 2 FAÇA ATÉ N:\n",
    "        S = 0 \n",
    "        PARA j FAÇA ATÉ i-1:\n",
    "            S += L[i, j] * y[j]\n",
    "\n",
    "        Y[i] = 1/L[i, i] * (b[i] - S)\n",
    "    RETURN Y\n",
    "```"
   ]
  },
  {
   "cell_type": "code",
   "execution_count": 14,
   "metadata": {},
   "outputs": [],
   "source": [
    "def forwardSubstitution(L, b):\n",
    "    # criando um vetor y\n",
    "    y  = np.zeros(shape=(L.shape[1], 1)) \n",
    "\n",
    "    # definindo y[0] \n",
    "    y[0, :] = b[0, :]/ L[0, 0]\n",
    "\n",
    "    # continuando o alg de substituição\n",
    "    for i in range(1, L.shape[0]):\n",
    "        S = np.sum(np.multiply(L[i,:i],  y[:i].T))\n",
    "        y[i, :] = 1/L[i,i] * (b[i, :] - S )\n",
    "    return y"
   ]
  },
  {
   "cell_type": "code",
   "execution_count": 15,
   "metadata": {},
   "outputs": [
    {
     "data": {
      "text/plain": [
       "array([[ 1.        ],\n",
       "       [-3.        ],\n",
       "       [ 1.28571429]])"
      ]
     },
     "execution_count": 15,
     "metadata": {},
     "output_type": "execute_result"
    }
   ],
   "source": [
    "y = forwardSubstitution(L, b)\n",
    "y"
   ]
  },
  {
   "cell_type": "code",
   "execution_count": 16,
   "metadata": {},
   "outputs": [
    {
     "data": {
      "text/plain": [
       "array([[ 1.        ],\n",
       "       [-3.        ],\n",
       "       [ 1.28571429]])"
      ]
     },
     "execution_count": 16,
     "metadata": {},
     "output_type": "execute_result"
    }
   ],
   "source": [
    "y = forwardSubstitution(L, b)\n",
    "y"
   ]
  },
  {
   "cell_type": "code",
   "execution_count": 17,
   "metadata": {},
   "outputs": [
    {
     "data": {
      "text/plain": [
       "array([[ 1.        ],\n",
       "       [-3.        ],\n",
       "       [ 1.28571429]])"
      ]
     },
     "execution_count": 17,
     "metadata": {},
     "output_type": "execute_result"
    }
   ],
   "source": [
    "np.linalg.solve(A, b)"
   ]
  },
  {
   "cell_type": "markdown",
   "metadata": {},
   "source": [
    "Outro exemplo"
   ]
  },
  {
   "cell_type": "code",
   "execution_count": 18,
   "metadata": {},
   "outputs": [
    {
     "data": {
      "text/plain": [
       "(array([[ 16.24,  -6.12,  -5.28, -10.73,   8.65],\n",
       "        [-23.02,  17.45,  -7.61,   3.19,  -2.49],\n",
       "        [ 14.62, -20.6 ,  -3.22,  -3.84,  11.34],\n",
       "        [-11.  ,  -1.72,  -8.78,   0.42,   5.83],\n",
       "        [-11.01,  11.45,   9.02,   5.02,   9.01]]),\n",
       " array([[ 1.62],\n",
       "        [-0.61],\n",
       "        [-0.53],\n",
       "        [-1.07],\n",
       "        [ 0.87]]))"
      ]
     },
     "execution_count": 18,
     "metadata": {},
     "output_type": "execute_result"
    }
   ],
   "source": [
    "A = np.random.RandomState(1).randn(5, 5)*10\n",
    "A = np.around(A, decimals=2)\n",
    "\n",
    "b = np.random.RandomState(1).randn(5, 1)*1\n",
    "b = np.around(b, decimals=2)\n",
    "\n",
    "A, b"
   ]
  },
  {
   "cell_type": "code",
   "execution_count": 19,
   "metadata": {},
   "outputs": [],
   "source": [
    "L = transformL(A) "
   ]
  },
  {
   "cell_type": "code",
   "execution_count": 20,
   "metadata": {},
   "outputs": [
    {
     "data": {
      "text/plain": [
       "array([[-0.06578279],\n",
       "       [-0.14954343],\n",
       "       [ 0.0508016 ],\n",
       "       [ 0.68862814],\n",
       "       [-0.22831741]])"
      ]
     },
     "execution_count": 20,
     "metadata": {},
     "output_type": "execute_result"
    }
   ],
   "source": [
    "forwardSubstitution(L, b)"
   ]
  },
  {
   "cell_type": "code",
   "execution_count": 21,
   "metadata": {},
   "outputs": [
    {
     "data": {
      "text/plain": [
       "array([[-0.06578279],\n",
       "       [-0.14954343],\n",
       "       [ 0.0508016 ],\n",
       "       [ 0.68862814],\n",
       "       [-0.22831741]])"
      ]
     },
     "execution_count": 21,
     "metadata": {},
     "output_type": "execute_result"
    }
   ],
   "source": [
    "np.linalg.solve(A, b)"
   ]
  },
  {
   "cell_type": "markdown",
   "metadata": {},
   "source": [
    "&nbsp;"
   ]
  },
  {
   "cell_type": "markdown",
   "metadata": {},
   "source": [
    "## Decomposição de $\\text{Choesky}$"
   ]
  },
  {
   "cell_type": "markdown",
   "metadata": {},
   "source": [
    "É a decomposição de uma matriz simetrica e definida positiva no produto de uma matriz triangular inferior e sua transpota($A=LL^t$)\n",
    "Quando aplicável, a decomposição é aproximadamente duas vezes mais eficiente que a decomposição LU para resolver sistemas de equações linares."
   ]
  },
  {
   "cell_type": "markdown",
   "metadata": {},
   "source": [
    "#### Condições\n",
    "\n",
    "**Simetrica:** $A$ deve ser simétrica ($A=A^t$).\n",
    "\n",
    "**Positividades:**\n",
    "1. Todos os menores principais dominantes dever ser positivos\n",
    "2. Todos os autovalores devem ser positivos\n",
    "\n",
    "exemplo:"
   ]
  },
  {
   "cell_type": "code",
   "execution_count": 22,
   "metadata": {},
   "outputs": [],
   "source": [
    "# Verificando se a matrix é simetrica\n",
    "def isSimetric(A):\n",
    "    return np.all(A == A.T)"
   ]
  },
  {
   "cell_type": "code",
   "execution_count": 23,
   "metadata": {},
   "outputs": [],
   "source": [
    "A_ = np.array([\n",
    "    [2, 1, 1],\n",
    "    [1, 3, 1],\n",
    "    [1, 1, 2]\n",
    "])"
   ]
  },
  {
   "cell_type": "code",
   "execution_count": 24,
   "metadata": {},
   "outputs": [
    {
     "data": {
      "text/plain": [
       "True"
      ]
     },
     "execution_count": 24,
     "metadata": {},
     "output_type": "execute_result"
    }
   ],
   "source": [
    "isSimetric(A_)"
   ]
  },
  {
   "cell_type": "code",
   "execution_count": 25,
   "metadata": {},
   "outputs": [],
   "source": [
    "# Verificando a positividade da matriz\n",
    "def Positividade(A):\n",
    "    return np.all(\n",
    "        np.linalg.eigvals(A) >0\n",
    "    )\n",
    "    "
   ]
  },
  {
   "cell_type": "code",
   "execution_count": 26,
   "metadata": {},
   "outputs": [
    {
     "data": {
      "text/plain": [
       "True"
      ]
     },
     "execution_count": 26,
     "metadata": {},
     "output_type": "execute_result"
    }
   ],
   "source": [
    "Positividade(A_)"
   ]
  },
  {
   "cell_type": "markdown",
   "metadata": {},
   "source": [
    "&nbsp;"
   ]
  },
  {
   "cell_type": "markdown",
   "metadata": {},
   "source": [
    "#### Algoritmo de $\\text{cholesky}$"
   ]
  },
  {
   "cell_type": "markdown",
   "metadata": {},
   "source": [
    "$$\n",
    "\\text{Inicialize L com uma matriz triangular inferior com seros} \\\\\n",
    "\n",
    "1.L_{j,j} = \\sqrt{A_{j,j} - \\sum_{k-1}^{j-1}{L_{j,k}}^2} \\\\\n",
    "2. L_{i,j} = \\frac{1}{L_{i,j}} ({A_{j,j} - \\sum_{k-1}^{j-1}{L_{j,k}} \\cdot L_{i,k}}) , \\text{para } i> j\n",
    "$$\n"
   ]
  },
  {
   "cell_type": "code",
   "execution_count": 27,
   "metadata": {},
   "outputs": [],
   "source": [
    "def cholesky(A):\n",
    "    N, M = A.shape\n",
    "    L = np.tri(N, M)\n",
    "\n",
    "    for i in range(A.shape[0]):\n",
    "        for j in range(i):\n",
    "            L[i, j] = (1/L[j, j]) * (A[i, j] - np.sum([L[j, k] * L[i, k] for k in range(j)]))\n",
    "       \n",
    "        L[i, i] = np.sqrt(A[i, i] - np.sum([L[i, k]**2 for k in range(i)]))\n",
    "    return L       "
   ]
  },
  {
   "cell_type": "code",
   "execution_count": 28,
   "metadata": {},
   "outputs": [],
   "source": [
    "L = cholesky(A_)"
   ]
  },
  {
   "cell_type": "code",
   "execution_count": 29,
   "metadata": {},
   "outputs": [
    {
     "data": {
      "text/plain": [
       "(array([[2., 1., 1.],\n",
       "        [1., 3., 1.],\n",
       "        [1., 1., 2.]]),\n",
       " array([[1.41421356, 0.        , 0.        ],\n",
       "        [0.70710678, 1.58113883, 0.        ],\n",
       "        [0.70710678, 0.31622777, 1.18321596]]))"
      ]
     },
     "execution_count": 29,
     "metadata": {},
     "output_type": "execute_result"
    }
   ],
   "source": [
    "L@L.T, L"
   ]
  },
  {
   "cell_type": "markdown",
   "metadata": {},
   "source": [
    "&nbsp;"
   ]
  },
  {
   "cell_type": "markdown",
   "metadata": {},
   "source": [
    "## Decomposição $LU$"
   ]
  },
  {
   "cell_type": "markdown",
   "metadata": {},
   "source": [
    "É a fatoração de uma matriz quadrada A em duas matrizes: \n",
    "* $L$ triangular inferior\n",
    "```pseudo\n",
    "[1, 0, 0]\n",
    "[1, 1, 0]\n",
    "[1, 1, 1]\n",
    "```\n",
    "* $U$ triangular superior\n",
    "```pseudo\n",
    "[1, 1, 1]\n",
    "[0, 1, 1]\n",
    "[0, 0, 1]\n",
    "```"
   ]
  },
  {
   "cell_type": "markdown",
   "metadata": {},
   "source": [
    "A decomposiçã $LU$ facilita a resoluçã de sistemas lineares, especialmente quando o sistema é a parte do múltiplos sistemas com a mesma matriz de coeficientes. Foi desenvolvidas a partir do método de eleminação de Gauss, adaptando-o para uma fatoração matricial"
   ]
  },
  {
   "cell_type": "markdown",
   "metadata": {},
   "source": [
    "#### Vantagem Computacional\n",
    "\n",
    "| Tradicional | LU |\n",
    "| ----------- | -- |\n",
    "| $O(n^3)$ opereções para cada sistema   | Fatorar $A = LU$ uma única vez: $O(n^3)$ operações|\n",
    "|         | Para cada novo sistema, resolver $Ly = b$, Ux=y. \"Apenas\" $O(n^2)$ operações por sistema|\n",
    "\n",
    "#### Condições\n",
    "Existencias:\n",
    "A matriz deve ser nao singular. Eventualmente, pode ser necessário alterar a ordem das linhas e/ou colunas de $A$ para evitar pivos nulos(**pivoteamento**)\n",
    "$$\n",
    "PA=LU\n",
    "$$\n",
    "Onde $P$ é matriz de permutação\n",
    "\n",
    ">uma matriz é chamada de singular se:\n",
    "> 1. Seu determinante é igual a zero (det(𝐴)=0)\n",
    "> 2. Ela não possui inversa.\n",
    "> "
   ]
  },
  {
   "cell_type": "code",
   "execution_count": 30,
   "metadata": {},
   "outputs": [],
   "source": [
    "def isSingular(A):\n",
    "    try:\n",
    "        if np.isclose(np.linalg.det(A), 0):\n",
    "            print(\"det = 0\")\n",
    "        else:\n",
    "            print(\"det dif 0\")\n",
    "        \n",
    "        np.linalg.inv(A)\n",
    "        print(\"Possui inversa\")\n",
    "    except np.linalg.LinAlgError:\n",
    "        print(\"Não possui inversa\")"
   ]
  },
  {
   "cell_type": "code",
   "execution_count": 31,
   "metadata": {},
   "outputs": [
    {
     "name": "stdout",
     "output_type": "stream",
     "text": [
      "det dif 0\n",
      "Possui inversa\n"
     ]
    }
   ],
   "source": [
    "isSingular(A)"
   ]
  },
  {
   "cell_type": "markdown",
   "metadata": {},
   "source": [
    "#### Algoritmo"
   ]
  },
  {
   "cell_type": "code",
   "execution_count": 32,
   "metadata": {},
   "outputs": [],
   "source": [
    "import copy \n",
    "\n",
    "def decomposicaoLU(A, b):\n",
    "    N, M = A.shape\n",
    "    L = np.diag(np.ones(M))\n",
    "   \n",
    "    U = copy.deepcopy(L)\n",
    "\n",
    "    for i in range(A.shape[0]):\n",
    "        for j in range(A.shape[1]):\n",
    "            if i<=j:\n",
    "                U[i, j] = A[i, j] - np.sum(L[i, :j] * U[:j, j])\n",
    "            if i >j:\n",
    "                L[i, j] =  (A[i, j] - np.sum(L[i, :i] * U[:i, j])) / U[j, j]\n",
    "                \n",
    "    return L, U"
   ]
  },
  {
   "cell_type": "code",
   "execution_count": 33,
   "metadata": {},
   "outputs": [],
   "source": [
    "A1 = np.array(\n",
    "    [[1,4,-3],\n",
    "     [-2,4,5],\n",
    "     [3,4,7]]\n",
    ")\n",
    "b1 = np.array([1,2,3])"
   ]
  },
  {
   "cell_type": "code",
   "execution_count": 34,
   "metadata": {},
   "outputs": [],
   "source": [
    "L, U = decomposicaoLU(A1, b1)"
   ]
  },
  {
   "cell_type": "code",
   "execution_count": 35,
   "metadata": {},
   "outputs": [
    {
     "data": {
      "text/plain": [
       "array([[ 1.,  4., -3.],\n",
       "       [-2.,  4.,  5.],\n",
       "       [ 3.,  4.,  7.]])"
      ]
     },
     "execution_count": 35,
     "metadata": {},
     "output_type": "execute_result"
    }
   ],
   "source": [
    "L@U"
   ]
  },
  {
   "cell_type": "markdown",
   "metadata": {},
   "source": [
    "&nbsp;"
   ]
  },
  {
   "cell_type": "markdown",
   "metadata": {},
   "source": [
    "## Mínimos Quadrados"
   ]
  },
  {
   "cell_type": "markdown",
   "metadata": {},
   "source": [
    "### Introdução ao problema de Mínimos Quadrados Discretos"
   ]
  },
  {
   "cell_type": "code",
   "execution_count": 36,
   "metadata": {},
   "outputs": [],
   "source": [
    "random = np.random.RandomState(seed=10)\n",
    "x = random.randn(30, 1)*10 + random.uniform(low=-10, high=3, size=(30,1))\n",
    "y = x * 4 + random.uniform(low=-10, high=3, size=(30, 1))"
   ]
  },
  {
   "cell_type": "code",
   "execution_count": 37,
   "metadata": {},
   "outputs": [
    {
     "data": {
      "image/png": "[encoded data removed]",
      "text/plain": [
       "<Figure size 640x480 with 1 Axes>"
      ]
     },
     "metadata": {},
     "output_type": "display_data"
    }
   ],
   "source": [
    "plt.scatter(x, y)\n",
    "plt.show()"
   ]
  },
  {
   "cell_type": "markdown",
   "metadata": {},
   "source": [
    "Dados um conj. de pontos de dados discretos ${(t_i, y_i)}_{i=1}^m$, o objetivo d problema de mínimos quadrados discreto é encontrar um polinomio $p(t)$ de grau $d$ que aproxime esse dados minimizando o erro residual.\n",
    "\n",
    "#### Formulação Matemática\n",
    "Objetivo é minimizar a soma dos quadrados dos resíduos:\n",
    "$$\n",
    "\\min_{a_1, ... a_j}{\\sum_{i-1}^{m}(y_i - p(t_i))^2}\n",
    "$$\n",
    "\n",
    "#### Representação matricial\n",
    "Podemos reescrever o problema em termos matriciais como:\n",
    "$$\n",
    "y = Va\n",
    "$$\n",
    "onde :\n",
    "$$\n",
    "\\begin{bmatrix}\n",
    "1 & t_1 & t^2_1 & ... & t_1^d\\\\\n",
    "1 & t_2 & ..... & ... & t_2^d\\\\\n",
    "1 & ... & ..... & ... & t_3^d\\\\\n",
    "1 & t_m & t^2_m & ... & t_m^d\\\\\n",
    "\\end{bmatrix}\n",
    "\n",
    "\\begin{bmatrix}\n",
    "a_0 \\\\\n",
    ".   \\\\\n",
    ".   \\\\\n",
    "a_d\n",
    "\\end{bmatrix}\n",
    "=\n",
    "\\begin{bmatrix}\n",
    "y_0 \\\\\n",
    ".   \\\\\n",
    ".   \\\\\n",
    "y_m\n",
    "\\end{bmatrix}\n",
    "$$"
   ]
  },
  {
   "cell_type": "markdown",
   "metadata": {},
   "source": [
    "#### Métodos dos mínimos quadrados\n",
    "\n",
    "Dado um sistema sobredeterminado $Ax=b$ :\n",
    "* $A \\in R^{m X n}, m>>n$, (mais equações de que incógnitas)\n",
    "* Queremos minimizar o error residual:\n",
    "$$\n",
    "\\min{||AX - b||^2_2}\n",
    "$$\n",
    "\n",
    "A solução é dada pelas equações normais[1]:\n",
    "$$\n",
    "\n",
    "A^T Ax = A^Tb\n",
    "$$\n",
    "que é um sistema linear de n equações e n incógnitas."
   ]
  },
  {
   "cell_type": "markdown",
   "metadata": {},
   "source": [
    "#### Decomposição $QR$\n",
    "A decomposição $QR$ de uma matriz $A \\in R^{mXn}(m >= n)$ é a fatoração de $A$ em:\n",
    "$$\n",
    "A = QR\n",
    "$$\n",
    "onde :\n",
    "* $Q \\in R^{mXn}$ é uma matriz ortogonal ($Q^TQ=I$)\n",
    "* $R \\in R^{mXn}$ é uma matriz triangular superior"
   ]
  },
  {
   "cell_type": "markdown",
   "metadata": {},
   "source": [
    "#### Processo de GRAM-Schmidt"
   ]
  },
  {
   "cell_type": "code",
   "execution_count": 38,
   "metadata": {},
   "outputs": [],
   "source": [
    "def projecao(v, q):\n",
    "    return ( np.dot(v, v.T) / np.dot(q, q.T) ) * q \n",
    "\n",
    "def decomposicaoQR(A):\n",
    "    row, col = A.shape\n",
    "\n",
    "    if col > row:\n",
    "        raise Exception('n colunas > n linhas')\n",
    "    Q = np.zeros(shape=(row, col))\n",
    "    R = np.tri(row, row).T\n",
    "\n",
    "    for i in range(col):\n",
    "        u = A[:, i]\n",
    "\n",
    "        for j in range(i):\n",
    "            R[j, i] = np.dot(Q[:, j], A[:, i])\n",
    "            u = u - R[j, i] * Q[:, j]\n",
    "\n",
    "        R[i, i] = np.linalg.norm(u)\n",
    "        Q[:, i] = u / R[i, i]\n",
    "    return Q, R"
   ]
  },
  {
   "cell_type": "code",
   "execution_count": 53,
   "metadata": {},
   "outputs": [],
   "source": [
    "A = np.random.RandomState(1).randn(10,1) \n",
    "b = np.random.RandomState(1).randn(10,1)\n",
    "A_ = np.c_[np.ones(shape=(10, 1)), A]"
   ]
  },
  {
   "cell_type": "code",
   "execution_count": 54,
   "metadata": {},
   "outputs": [],
   "source": [
    "Q, R = decomposicaoQR(A)"
   ]
  },
  {
   "cell_type": "code",
   "execution_count": 47,
   "metadata": {},
   "outputs": [
    {
     "data": {
      "text/plain": [
       "array([[-2.94902991e-17],\n",
       "       [ 1.00000000e+00]])"
      ]
     },
     "execution_count": 47,
     "metadata": {},
     "output_type": "execute_result"
    }
   ],
   "source": [
    "np.linalg.inv(A_.T@A_)@A_.T@b"
   ]
  }
 ],
 "metadata": {
  "kernelspec": {
   "display_name": "Python 3",
   "language": "python",
   "name": "python3"
  },
  "language_info": {
   "codemirror_mode": {
    "name": "ipython",
    "version": 3
   },
   "file_extension": ".py",
   "mimetype": "text/x-python",
   "name": "python",
   "nbconvert_exporter": "python",
   "pygments_lexer": "ipython3",
   "version": "3.12.7"
  }
 },
 "nbformat": 4,
 "nbformat_minor": 2
}
